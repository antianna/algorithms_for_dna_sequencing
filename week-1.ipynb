{
 "cells": [
  {
   "cell_type": "code",
   "execution_count": 205,
   "metadata": {},
   "outputs": [
    {
     "name": "stdout",
     "output_type": "stream",
     "text": [
      "Requirement already satisfied: wget in /Users/anna/anaconda3/lib/python3.6/site-packages (3.2)\r\n"
     ]
    }
   ],
   "source": [
    "import numpy as np\n",
    "import matplotlib.pyplot as plt\n",
    "import collections\n",
    "\n",
    "!pip install wget"
   ]
  },
  {
   "cell_type": "markdown",
   "metadata": {},
   "source": [
    "-----------------\n",
    "### Question 1\n",
    "How many times does **AGGT** or its reverse complement (**ACCT**) occur in the lambda virus genome?  E.g. if **AGGT** occurs 10 times and **ACCT** occurs 12 times, you should report 22.\n"
   ]
  },
  {
   "cell_type": "markdown",
   "metadata": {},
   "source": [
    "#### Answer"
   ]
  },
  {
   "cell_type": "code",
   "execution_count": 206,
   "metadata": {},
   "outputs": [
    {
     "name": "stdout",
     "output_type": "stream",
     "text": [
      "--2022-12-04 09:24:27--  https://d28rh4a8wq0iu5.cloudfront.net/ads1/data/lambda_virus.fa\n",
      "Resolving d28rh4a8wq0iu5.cloudfront.net (d28rh4a8wq0iu5.cloudfront.net)... 108.139.241.231, 108.139.241.200, 108.139.241.209, ...\n",
      "Connecting to d28rh4a8wq0iu5.cloudfront.net (d28rh4a8wq0iu5.cloudfront.net)|108.139.241.231|:443... connected.\n",
      "HTTP request sent, awaiting response... 200 OK\n",
      "Length: 49270 (48K) [application/octet-stream]\n",
      "Saving to: ‘lambda_virus.fa.3’\n",
      "\n",
      "lambda_virus.fa.3   100%[===================>]  48.12K  --.-KB/s    in 0.06s   \n",
      "\n",
      "2022-12-04 09:24:28 (856 KB/s) - ‘lambda_virus.fa.3’ saved [49270/49270]\n",
      "\n"
     ]
    }
   ],
   "source": [
    "# download lambda virus genome\n",
    "!wget --no-check https://d28rh4a8wq0iu5.cloudfront.net/ads1/data/lambda_virus.fa"
   ]
  },
  {
   "cell_type": "code",
   "execution_count": 207,
   "metadata": {},
   "outputs": [
    {
     "name": "stdout",
     "output_type": "stream",
     "text": [
      "Number of times 'AGGT' appears in lamdba virus genome: 150\n",
      "Total ('AGGT' + complement): 306\n"
     ]
    }
   ],
   "source": [
    "def readGenome(filename):\n",
    "    genome = ''\n",
    "    with open(filename, 'r') as f:\n",
    "        for line in f:\n",
    "            # ignore header line with genome information\n",
    "            if not line[0] == '>':\n",
    "                genome += line.rstrip()\n",
    "    return genome\n",
    "\n",
    "def reverseComplement(s):\n",
    "    complement = {'A': 'T', 'C': 'G', 'G': 'C', 'T': 'A', 'N': 'N'}\n",
    "    t = ''\n",
    "    for base in s:\n",
    "        t = complement[base] + t\n",
    "    return t\n",
    "\n",
    "def naive(p, t):\n",
    "    occurrences = []\n",
    "    for i in range(len(t) - len(p) + 1):  # loop over alignments\n",
    "        match = True\n",
    "        for j in range(len(p)):  # loop over characters\n",
    "            if t[i+j] != p[j]:  # compare characters\n",
    "                match = False\n",
    "                break\n",
    "        if match:\n",
    "            occurrences.append(i)  # all chars matched; record\n",
    "    return occurrences\n",
    "\n",
    "# read in genome\n",
    "genome = readGenome('lambda_virus.fa')\n",
    "\n",
    "print(f\"Number of times 'AGGT' appears in lamdba virus genome: {len(naive('AGGT', genome ))}\")\n",
    "print(f\"Total ('AGGT' + complement): {len(naive('AGGT', genome)) + len(naive(reverseComplement('AGGT'), genome ))}\")"
   ]
  },
  {
   "cell_type": "markdown",
   "metadata": {},
   "source": [
    "---------------------\n",
    "### Question 2\n",
    "How many times does **TTAA** or its reverse complement occur in the lambda virus genome?  \n",
    "\n",
    "Hint: **TTAA** and its reverse complement are equal, so remember not to double count."
   ]
  },
  {
   "cell_type": "markdown",
   "metadata": {},
   "source": [
    "#### Answer\n",
    "The reverse complement of **5'-TTAA-3'** is **5'-TTAA-3'** making this a palindromic sequence. (Remember to reverse the directionality to make sure it reads from the 5-prime end to the 3-prime end).Therefore we only count it once."
   ]
  },
  {
   "cell_type": "code",
   "execution_count": 132,
   "metadata": {},
   "outputs": [
    {
     "name": "stdout",
     "output_type": "stream",
     "text": [
      "Number of times TTAA is found in the lambda virus: 195\n"
     ]
    }
   ],
   "source": [
    "print(f\"Number of times TTAA is found in the lambda virus: {len(naive('TTAA', genome))}\")"
   ]
  },
  {
   "cell_type": "code",
   "execution_count": 208,
   "metadata": {},
   "outputs": [],
   "source": [
    "# Just to check that our reverseComplement function is working correclty ...\n",
    "# len(naive(reverseComplement('TTAA'), genome))"
   ]
  },
  {
   "cell_type": "markdown",
   "metadata": {},
   "source": [
    "-----------------\n",
    "### Question 3\n",
    "What is the offset of the leftmost occurrence of **ACTAAGT** or its reverse complement in the Lambda virus genome?  E.g. if the leftmost occurrence of **ACTAAGT** is at offset 40 (0-based) and the leftmost occurrence of its reverse complement **ACTTAGT** is at offset 29, then report 29."
   ]
  },
  {
   "cell_type": "markdown",
   "metadata": {},
   "source": [
    "#### Answer"
   ]
  },
  {
   "cell_type": "code",
   "execution_count": 137,
   "metadata": {},
   "outputs": [
    {
     "name": "stdout",
     "output_type": "stream",
     "text": [
      "Leftmost offest of sequence: 27733\n",
      "Leftmost offset of complement: 26028\n"
     ]
    }
   ],
   "source": [
    "read = 'ACTAAGT'\n",
    "print(f\"Leftmost offest of sequence: {naive(read,genome)[0]}\")\n",
    "print(f\"Leftmost offset of complement: {naive(reverseComplement(read), genome)[0]}\")"
   ]
  },
  {
   "cell_type": "markdown",
   "metadata": {},
   "source": [
    "The complement occurs at a lower index."
   ]
  },
  {
   "cell_type": "markdown",
   "metadata": {},
   "source": [
    "-----------------\n",
    "### Question 4\n",
    "What is the offset of the leftmost occurrence of **AGTCGA** or its reverse complement in the Lambda virus genome?\n"
   ]
  },
  {
   "cell_type": "code",
   "execution_count": 142,
   "metadata": {},
   "outputs": [
    {
     "name": "stdout",
     "output_type": "stream",
     "text": [
      "The reverse complement is: TCGACT\n",
      "Leftmost occurance of sequence: 18005\n",
      "Leftmost occurance of the complement: 450\n"
     ]
    }
   ],
   "source": [
    "read = \"AGTCGA\"\n",
    "print(f\"The reverse complement is: {reverseComplement(read)}\")\n",
    "print(f\"Leftmost occurance of sequence: {naive(read,genome)[0]}\")\n",
    "print(f\"Leftmost occurance of the complement: {naive(reverseComplement(read), genome)[0]}\")"
   ]
  },
  {
   "cell_type": "markdown",
   "metadata": {},
   "source": [
    "#### Answer\n",
    "\n",
    "The leftmost occurance occurs with the complement."
   ]
  },
  {
   "cell_type": "markdown",
   "metadata": {},
   "source": [
    "-----------------\n",
    "### Question 5\n",
    "As we will discuss, sometimes we would like to find approximate matches for P in T. That is, we want to find occurrences with one or more differences.\n",
    "\n",
    "For Questions 5 and 6, make a new version of the *naive* function called **naive_2mm** that allows up to 2 mismatches per occurrence. Unlike for the previous questions, do not consider the reverse complement here.  We're looking for approximate matches for P itself, not its reverse complement.\n",
    "\n",
    "￼\n",
    "\n",
    "For example, **ACTTTA** occurs twice in **ACTTACTTGATAAAGT**, once at offset 0 with 2 mismatches, and once at offset 4 with 1 mismatch. So *naive_2mm('ACTTTA', 'ACTTACTTGATAAAGT')* should return the list *[0, 4]*.\n",
    "\n",
    "Hint: See  this [notebook](https://nbviewer.org/github/BenLangmead/ads1-hw-examples/blob/master/hw1_naive_2mm.ipynb) for a few examples you can use to test your *naive_2mm* function.\n",
    "\n",
    "How many times does **TTCAAGCC** occur in the Lambda virus genome when allowing up to 2 mismatches? "
   ]
  },
  {
   "cell_type": "markdown",
   "metadata": {},
   "source": [
    "#### Answer"
   ]
  },
  {
   "cell_type": "code",
   "execution_count": 14,
   "metadata": {},
   "outputs": [],
   "source": [
    " def naive_2mm(p,t):\n",
    "    occurrences = []\n",
    "    for i in range(len(t) - len(p) + 1):\n",
    "        match = True\n",
    "        c = 0\n",
    "        for j in range(len(p)):\n",
    "            if t[i+j] != p[j]:  # compare characters\n",
    "                c+=1\n",
    "                if c>2:\n",
    "                    match = False\n",
    "                    break\n",
    "        if match:\n",
    "            occurrences.append(i)  # all chars matched; record\n",
    "    return occurrences\n"
   ]
  },
  {
   "cell_type": "code",
   "execution_count": 143,
   "metadata": {},
   "outputs": [
    {
     "data": {
      "text/plain": [
       "[0, 4]"
      ]
     },
     "execution_count": 143,
     "metadata": {},
     "output_type": "execute_result"
    }
   ],
   "source": [
    "# test function --> works as required!\n",
    "p = 'ACTTTA'\n",
    "t = 'ACTTACTTGATAAAGT'\n",
    "naive_2mm(p,t) "
   ]
  },
  {
   "cell_type": "code",
   "execution_count": 145,
   "metadata": {},
   "outputs": [
    {
     "name": "stdout",
     "output_type": "stream",
     "text": [
      "Number of times sequnce appears in genome: 191\n"
     ]
    }
   ],
   "source": [
    "# actual\n",
    "r = 'TTCAAGCC'\n",
    "print(f\"Number of times sequnce appears in genome: {len(naive_2mm(r, genome))}\")"
   ]
  },
  {
   "cell_type": "markdown",
   "metadata": {},
   "source": [
    "-----------------\n",
    "### Question 6 \n",
    "What is the offset of the leftmost occurrence of **AGGAGGTT** in the Lambda virus genome when allowing up to 2 mismatches?\n"
   ]
  },
  {
   "cell_type": "markdown",
   "metadata": {},
   "source": [
    "#### Answer"
   ]
  },
  {
   "cell_type": "code",
   "execution_count": 147,
   "metadata": {},
   "outputs": [
    {
     "name": "stdout",
     "output_type": "stream",
     "text": [
      "Leftmost offset of sequence: 49\n"
     ]
    }
   ],
   "source": [
    "r = 'AGGAGGTT'\n",
    "print(f\"Leftmost offset of sequence: {naive_2mm(r, genome)[0]}\")"
   ]
  },
  {
   "cell_type": "markdown",
   "metadata": {},
   "source": [
    "-----------------\n",
    "### Question 7 \n",
    "\n",
    "Finally, download and parse the provided FASTQ file containing real DNA sequencing reads derived from a human:\n",
    "\n",
    " [https://d28rh4a8wq0iu5.cloudfront.net/ads1/data/ERR037900_1.first1000.fastq](https://d28rh4a8wq0iu5.cloudfront.net/ads1/data/ERR037900_1.first1000.fastq)\n",
    "\n",
    "Note that the file has many reads in it and you should examine all of them together when answering this question.  The reads are taken from this study:\n",
    "\n",
    "Ajay, S. S., Parker, S. C., Abaan, H. O., Fajardo, K. V. F., & Margulies, E. H. (2011). Accurate\n",
    "\n",
    "and comprehensive sequencing of personal genomes. Genome research, 21(9), 1498-1505. \n",
    "\n",
    "This dataset has something wrong with it; one of the sequencing cycles is poor quality.\n",
    "\n",
    "Report which sequencing cycle has the problem.  Remember that a sequencing cycle corresponds to a particular offset in all the reads. For example, if the leftmost read position seems to have a problem consistently across reads, report 0 . If the fourth position from the left has the problem, report 3 . Do whatever analysis you think is needed to identify the bad cycle. It might help to review the \"Analyzing reads by position\" video.\n"
   ]
  },
  {
   "cell_type": "markdown",
   "metadata": {},
   "source": [
    "#### Answer"
   ]
  },
  {
   "cell_type": "code",
   "execution_count": 148,
   "metadata": {},
   "outputs": [
    {
     "name": "stdout",
     "output_type": "stream",
     "text": [
      "--2022-12-03 10:47:21--  https://d28rh4a8wq0iu5.cloudfront.net/ads1/data/ERR037900_1.first1000.fastq\n",
      "Resolving d28rh4a8wq0iu5.cloudfront.net (d28rh4a8wq0iu5.cloudfront.net)... 108.139.241.148, 108.139.241.231, 108.139.241.209, ...\n",
      "Connecting to d28rh4a8wq0iu5.cloudfront.net (d28rh4a8wq0iu5.cloudfront.net)|108.139.241.148|:443... connected.\n",
      "HTTP request sent, awaiting response... 200 OK\n",
      "Length: 241626 (236K) [application/octet-stream]\n",
      "Saving to: ‘ERR037900_1.first1000.fastq.3’\n",
      "\n",
      "ERR037900_1.first10 100%[===================>] 235.96K   645KB/s    in 0.4s    \n",
      "\n",
      "2022-12-03 10:47:22 (645 KB/s) - ‘ERR037900_1.first1000.fastq.3’ saved [241626/241626]\n",
      "\n"
     ]
    }
   ],
   "source": [
    "# Download file\n",
    "!wget --no-check https://d28rh4a8wq0iu5.cloudfront.net/ads1/data/ERR037900_1.first1000.fastq"
   ]
  },
  {
   "cell_type": "code",
   "execution_count": 153,
   "metadata": {},
   "outputs": [
    {
     "data": {
      "text/plain": [
       "'@ERR037900.1 509.8.8.8903.80024/1TAACCCTAACCCTAACCCTAACCCTAACCCTAACCCTAACCCTAACCCTAACCCTAACCCTAACCCNAACCCTAACCCTAACCCTAACCCTAACCCTAAC+HHHHHHHHHHHHHHHHHHHHHHHHHHHHHHHHHHHHHHHHHHHGFHHHFHFFHHHHHGHHFHEH@4#55554455HGFBF<@C>7EEF@FBEDDD<=C<E@ERR037900.2 509.5.68.21343.17610/1TAACCCTAACCCTAACCCTAACCCTAACCCTAACCCTAACCCTAACCCTAACCCTAACCCTAACCCNAACCCTAACCCTAACCCTAACCCTNACCCTAAC+HHHHHHHHHHHHHHHHHHHHHHHHHHHHHHHHHHHHHHHHHHHHHHHHHHHHHHHHCHHHHEHHBA#C>@54455C/7=CGHEGEB;C############@ERR037900.3 509.5.41.1218.7494/1TAACCCTAACCCTAACCCTAACCCTAACCCTAACCCTAACCCTAACCCTAACCCTAACCCTAACCCNAACCCTAACCCTAACCCTAACCCTAACCCTAAC+HHHHHHHHHHHHHHHHHHHHHHHHHHHHHHGHHHHHHHHHHHHHDHHHDEHHHHFGIHEHEGGGF4#45655366GIGEHAGBG################@ERR037900.4 509.3.45.14457.64151/1TAACCCTAACCCTAACCCTAACCCTAACCCTAACCCTAACCCTAACCCTAACCCTAACCCTAACCCNAACCCTAACCCTAACCCTAACCCTAACCCTACC+HHHHHHHHHHHHHHHHHHHHHHHHHIHHHHHHHHHHHHHHHHHHHHHHIHHHHHIHFHHHIHHHHD#ECA54655GGIBH?BD@+BCBF?5A=::>8?##@ERR037900.5 509.4.43.16809.33112/1AACCCTAACCCTAACCCTAACCCTA'"
      ]
     },
     "execution_count": 153,
     "metadata": {},
     "output_type": "execute_result"
    }
   ],
   "source": [
    "# Read genome\n",
    "genome = readGenome('ERR037900_1.first1000.fastq')\n",
    "\n",
    "# Inspect genome\n",
    "genome[:1000]"
   ]
  },
  {
   "cell_type": "code",
   "execution_count": 154,
   "metadata": {},
   "outputs": [
    {
     "name": "stdout",
     "output_type": "stream",
     "text": [
      "100\n"
     ]
    }
   ],
   "source": [
    "# To read genome from FASTQ file\n",
    "def readFastq(filename):\n",
    "    sequences = []\n",
    "    qualities = []\n",
    "    with open(filename) as fh:\n",
    "        while True:\n",
    "            fh.readline()  # skip name line\n",
    "            seq = fh.readline().rstrip()  # read base sequence\n",
    "            fh.readline()  # skip placeholder line\n",
    "            qual = fh.readline().rstrip() # base quality line\n",
    "            if len(seq) == 0:\n",
    "                break\n",
    "            sequences.append(seq)\n",
    "            qualities.append(qual)\n",
    "    return sequences, qualities\n",
    "\n",
    "# To convert ASCII encoded quality to Q-score\n",
    "def phred33ToQ(qual):\n",
    "    return ord(qual) - 33\n",
    "\n",
    "sequences, qualities = readFastq(\"ERR037900_1.first1000.fastq\")\n",
    "print(len(sequences[0]))"
   ]
  },
  {
   "cell_type": "markdown",
   "metadata": {},
   "source": [
    "In order to inspect the Q-scores for the entire genome, let's plot a histogram"
   ]
  },
  {
   "cell_type": "code",
   "execution_count": 163,
   "metadata": {},
   "outputs": [
    {
     "data": {
      "text/plain": [
       "Text(0, 0.5, 'frequency')"
      ]
     },
     "execution_count": 163,
     "metadata": {},
     "output_type": "execute_result"
    },
    {
     "data": {
      "image/png": "[encoded data removed]",
      "text/plain": [
       "<Figure size 432x288 with 1 Axes>"
      ]
     },
     "metadata": {
      "needs_background": "light"
     },
     "output_type": "display_data"
    }
   ],
   "source": [
    "# To creat a histgram of Q-scores (freq-vs-quality)\n",
    "def createHist(qualities):\n",
    "    hist_ls = [0]*50\n",
    "    for qual in qualities:\n",
    "        for phred in qual:\n",
    "            q = phred33ToQ(phred)\n",
    "            hist_ls[q]+=1\n",
    "    return hist_ls\n",
    "\n",
    "hist_y = createHist(qualities)\n",
    "plt.bar(range(len(hist_y)), hist_y)\n",
    "plt.xlabel('quality')\n",
    "plt.ylabel('frequency')"
   ]
  },
  {
   "cell_type": "markdown",
   "metadata": {},
   "source": [
    "There's a spike at 2 (low Q-score); this might be due to clusters where the base caller was not confident in classifying the colour emitted per read. This can happen for a number of reasons - individuals molecules within a cluster can fall out of sync with each other increasing signal-to-noise ratio for example.\n",
    "\n",
    "To address the question and find out which cycle was a bad one, we need to examine the reads - as data is collected read-by-read in each cycle, we need to find the read index with the minimum Q-score summed over all reads."
   ]
  },
  {
   "cell_type": "code",
   "execution_count": 187,
   "metadata": {},
   "outputs": [
    {
     "data": {
      "text/plain": [
       "[<matplotlib.lines.Line2D at 0x7fcb425683c8>]"
      ]
     },
     "execution_count": 187,
     "metadata": {},
     "output_type": "execute_result"
    },
    {
     "data": {
      "image/png": "[encoded data removed]",
      "text/plain": [
       "<Figure size 432x288 with 1 Axes>"
      ]
     },
     "metadata": {
      "needs_background": "light"
     },
     "output_type": "display_data"
    }
   ],
   "source": [
    "dict_qs = dict(zip(range(len(qualities[0])), [0]*len(qualities[0])))\n",
    "\n",
    "for qual in qualities:\n",
    "    for i,q_ in enumerate(qual):\n",
    "        q = phred33ToQ(q_)\n",
    "        dict_qs[i] += float(q) \n",
    "\n",
    "plt.plot(list(dict_qs.keys()), list(dict_qs.values()))"
   ]
  },
  {
   "cell_type": "markdown",
   "metadata": {},
   "source": [
    "We see that there is a dip in the Q-scores between the 60th-70th call or cycle. This must be the bad cycle."
   ]
  },
  {
   "cell_type": "code",
   "execution_count": 204,
   "metadata": {},
   "outputs": [
    {
     "name": "stdout",
     "output_type": "stream",
     "text": [
      "Bad cycle number: 66\n"
     ]
    }
   ],
   "source": [
    "value = [i for i in dict_qs if dict_qs[i] == min(dict_qs.values())]\n",
    "print(f'Bad cycle number: {value[0]}')"
   ]
  }
 ],
 "metadata": {
  "kernelspec": {
   "display_name": "Python 3",
   "language": "python",
   "name": "python3"
  },
  "language_info": {
   "codemirror_mode": {
    "name": "ipython",
    "version": 3
   },
   "file_extension": ".py",
   "mimetype": "text/x-python",
   "name": "python",
   "nbconvert_exporter": "python",
   "pygments_lexer": "ipython3",
   "version": "3.6.8"
  }
 },
 "nbformat": 4,
 "nbformat_minor": 2
}
